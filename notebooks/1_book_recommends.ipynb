{
 "cells": [
  {
   "cell_type": "markdown",
   "metadata": {},
   "source": [
    "# Recomendación de libros con KNN\n",
    "Alumno: Rodolfo Luthe Narváez\n",
    "\n",
    "## Justificación\n",
    "\n",
    "## Objetivos"
   ]
  }
 ],
 "metadata": {
  "language_info": {
   "name": "python"
  }
 },
 "nbformat": 4,
 "nbformat_minor": 2
}
